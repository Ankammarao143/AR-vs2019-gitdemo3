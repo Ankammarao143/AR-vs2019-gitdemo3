{
  "nbformat": 4,
  "nbformat_minor": 0,
  "metadata": {
    "colab": {
      "provenance": [],
      "authorship_tag": "ABX9TyMD03X6xpzMtCIBZMM3vSCN",
      "include_colab_link": true
    },
    "kernelspec": {
      "name": "python3",
      "display_name": "Python 3"
    },
    "language_info": {
      "name": "python"
    }
  },
  "cells": [
    {
      "cell_type": "markdown",
      "metadata": {
        "id": "view-in-github",
        "colab_type": "text"
      },
      "source": [
        "<a href=\"https://colab.research.google.com/github/Ankammarao143/AR-vs2019-gitdemo3/blob/master/pyspark.ipynb\" target=\"_parent\"><img src=\"https://colab.research.google.com/assets/colab-badge.svg\" alt=\"Open In Colab\"/></a>"
      ]
    },
    {
      "cell_type": "code",
      "execution_count": null,
      "metadata": {
        "colab": {
          "base_uri": "https://localhost:8080/"
        },
        "id": "hCvk00ac1o_L",
        "outputId": "bd555e66-893f-4e82-ee9a-5b687da0f8fa"
      },
      "outputs": [
        {
          "output_type": "stream",
          "name": "stdout",
          "text": [
            "Requirement already satisfied: pyspark in /usr/local/lib/python3.12/dist-packages (3.5.1)\n",
            "Requirement already satisfied: py4j==0.10.9.7 in /usr/local/lib/python3.12/dist-packages (from pyspark) (0.10.9.7)\n"
          ]
        }
      ],
      "source": [
        "pip install pyspark\n"
      ]
    },
    {
      "cell_type": "code",
      "source": [
        "from pyspark.sql import SparkSession\n",
        "\n",
        "# Create SparkSession\n",
        "spark = SparkSession.builder \\\n",
        "    .appName(\"RDD_Example\") \\\n",
        "    .master(\"local[*]\") \\\n",
        "    .getOrCreate()\n",
        "\n",
        "# Get SparkContext from SparkSession\n",
        "sc = spark.sparkContext\n"
      ],
      "metadata": {
        "id": "VtrC9obk2ANf"
      },
      "execution_count": null,
      "outputs": []
    },
    {
      "cell_type": "code",
      "source": [
        "# Python list\n",
        "data = [1, 2, 3, 4, 5]\n",
        "\n",
        "# Create RDD\n",
        "rdd = sc.parallelize(data)\n",
        "\n",
        "# Check content\n",
        "print(rdd.collect())  # [1, 2, 3, 4, 5]\n"
      ],
      "metadata": {
        "colab": {
          "base_uri": "https://localhost:8080/"
        },
        "id": "gfuajbT-2LNL",
        "outputId": "d869673f-d53a-4b04-d0a5-46efde4180b9"
      },
      "execution_count": null,
      "outputs": [
        {
          "output_type": "stream",
          "name": "stdout",
          "text": [
            "[1, 2, 3, 4, 5]\n"
          ]
        }
      ]
    },
    {
      "cell_type": "code",
      "source": [
        "rdd = sc.parallelize(data, 3)\n"
      ],
      "metadata": {
        "id": "DK6K93n-2SIa"
      },
      "execution_count": null,
      "outputs": []
    },
    {
      "cell_type": "code",
      "source": [
        "rdd_range = sc.range(1, 10)  # 1 to 9\n",
        "print(rdd_range.collect())\n"
      ],
      "metadata": {
        "colab": {
          "base_uri": "https://localhost:8080/"
        },
        "id": "9qDouLNb2ZhK",
        "outputId": "13ae7c06-ddb6-439e-f123-934a5bb5b4ee"
      },
      "execution_count": null,
      "outputs": [
        {
          "output_type": "stream",
          "name": "stdout",
          "text": [
            "[1, 2, 3, 4, 5, 6, 7, 8, 9]\n"
          ]
        }
      ]
    },
    {
      "cell_type": "code",
      "source": [
        "# Sample data\n",
        "data = [(1, \"Alice\", 25), (2, \"Bob\", 30), (3, \"Charlie\", 28)]\n",
        "\n",
        "# Define column names\n",
        "columns = [\"id\", \"name\", \"age\"]\n",
        "\n",
        "# Create DataFrame\n",
        "df = spark.createDataFrame(data, schema=columns)\n",
        "\n",
        "# Show DataFrame\n",
        "df.show()\n"
      ],
      "metadata": {
        "colab": {
          "base_uri": "https://localhost:8080/"
        },
        "id": "a9YPccQ-2psd",
        "outputId": "d385d6ec-2daa-4ea3-8d33-5cffbb899e15"
      },
      "execution_count": null,
      "outputs": [
        {
          "output_type": "stream",
          "name": "stdout",
          "text": [
            "+---+-------+---+\n",
            "| id|   name|age|\n",
            "+---+-------+---+\n",
            "|  1|  Alice| 25|\n",
            "|  2|    Bob| 30|\n",
            "|  3|Charlie| 28|\n",
            "+---+-------+---+\n",
            "\n"
          ]
        }
      ]
    },
    {
      "cell_type": "code",
      "source": [
        "from pyspark.sql import Row\n",
        "\n",
        "# Create RDD\n",
        "rdd = spark.sparkContext.parallelize([\n",
        "    Row(id=1, name=\"Alice\", age=25),\n",
        "    Row(id=2, name=\"Bob\", age=30),\n",
        "    Row(id=3, name=\"Charlie\", age=28)\n",
        "])\n",
        "\n",
        "# Convert RDD to DataFrame\n",
        "df3 = rdd.toDF()\n",
        "df3.show()\n"
      ],
      "metadata": {
        "colab": {
          "base_uri": "https://localhost:8080/"
        },
        "id": "YD6Ek0cu2xuf",
        "outputId": "e44cf452-2ace-46f3-874b-2ee73d6b3b75"
      },
      "execution_count": null,
      "outputs": [
        {
          "output_type": "stream",
          "name": "stdout",
          "text": [
            "+---+-------+---+\n",
            "| id|   name|age|\n",
            "+---+-------+---+\n",
            "|  1|  Alice| 25|\n",
            "|  2|    Bob| 30|\n",
            "|  3|Charlie| 28|\n",
            "+---+-------+---+\n",
            "\n"
          ]
        }
      ]
    },
    {
      "cell_type": "code",
      "source": [
        "from pyspark.sql import SparkSession\n",
        "\n",
        "spark = SparkSession.builder.appName(\"CSVExample\").getOrCreate()\n",
        "\n",
        "# Assuming the file is in the current directory in Colab\n",
        "df_csv = spark.read.csv(\"/content/customers.csv.csv\", header=True, inferSchema=True)\n",
        "\n",
        "df_csv.show()\n",
        "df_csv.printSchema()"
      ],
      "metadata": {
        "id": "LX1hBYLR8zmh",
        "colab": {
          "base_uri": "https://localhost:8080/"
        },
        "outputId": "cbf0c4ff-ad65-41a0-9107-9fe910731a25"
      },
      "execution_count": 1,
      "outputs": [
        {
          "output_type": "stream",
          "name": "stdout",
          "text": [
            "+-----+---------------+----------+---------+--------------------+-----------------+--------------------+--------------------+--------------------+--------------------+-----------------+--------------------+\n",
            "|Index|    Customer Id|First Name|Last Name|             Company|             City|             Country|             Phone 1|             Phone 2|               Email|Subscription Date|             Website|\n",
            "+-----+---------------+----------+---------+--------------------+-----------------+--------------------+--------------------+--------------------+--------------------+-----------------+--------------------+\n",
            "|    1|DD37Cf93aecA6Dc|    Sheryl|   Baxter|     Rasmussen Group|     East Leonard|               Chile|        229.077.5154|    397.884.0519x718|zunigavanessa@smi...|       2020-08-24|http://www.stephe...|\n",
            "|    2|1Ef7b82A4CAAD10|   Preston|   Lozano|         Vega-Gentry|East Jimmychester|            Djibouti|          5153435776|    686-620-1820x944|     vmata@colon.com|       2021-04-23|http://www.hobbs....|\n",
            "|    3|6F94879bDAfE5a6|       Roy|    Berry|       Murillo-Perry|    Isabelborough| Antigua and Barbuda|     +1-539-402-0259| (496)978-3969x58947| beckycarr@hogan.com|       2020-03-25|http://www.lawren...|\n",
            "|    4|5Cef8BFA16c5e3c|     Linda|    Olsen|Dominguez, Mcmill...|       Bensonview|  Dominican Republic|001-808-617-6467x...|     +1-813-324-8756|stanleyblackwell@...|       2020-06-02|http://www.good-l...|\n",
            "|    5|053d585Ab6b3159|    Joanna|   Bender|Martin, Lang and ...|   West Priscilla|Slovakia (Slovak ...|001-234-203-0635x...|001-199-446-3860x...|colinalvarado@mil...|       2021-04-17|https://goodwin-i...|\n",
            "|    6|2d08FB17EE273F4|     Aimee|    Downs|        Steele Group|    Chavezborough|Bosnia and Herzeg...| (283)437-3886x88321|        999-728-1637| louis27@gilbert.com|       2020-02-25|http://www.berger...|\n",
            "|    7|EA4d384DfDbBf77|    Darren|     Peck|Lester, Woodard a...|         Lake Ana|    Pitcairn Islands|  (496)452-6181x3291|+1-247-266-0963x4995| tgates@cantrell.com|       2021-08-24| https://www.le.com/|\n",
            "|    8|0e04AFde9f225dE|     Brett|   Mullen|Sanford, Davenpor...|          Kimport|            Bulgaria|001-583-352-7197x297|    001-333-145-0369|     asnow@colon.com|       2021-04-12|https://hammond-r...|\n",
            "|    9|C2dE4dEEc489ae0|    Sheryl|   Meyers|      Browning-Simon|     Robersonstad|              Cyprus|   854-138-4911x5772| +1-448-910-2276x729|mariokhan@ryan-po...|       2020-01-13|https://www.bullo...|\n",
            "|   10|8C2811a503C7c5a|  Michelle|Gallagher|        Beck-Hendrix|       Elaineberg|         Timor-Leste|    739.218.2516x459|001-054-401-0347x617|   mdyer@escobar.net|       2021-11-08|  https://arias.com/|\n",
            "|   11|216E205d6eBb815|      Carl|Schroeder|Oconnell, Meza an...|     Shannonville|            Guernsey|    637-854-0256x825|    114.336.0784x788|  kirksalas@webb.com|       2021-10-20|https://simmons-h...|\n",
            "|   12|CEDec94deE6d69B|     Jenna|   Dodson|Hoffman, Reed and...|      East Andrea|             Vietnam|       (041)737-3846|+1-556-888-3485x4...|  mark42@robbins.com|       2020-11-29|http://www.dougla...|\n",
            "|   13|e35426EbDEceaFF|    Tracey|     Mata|      Graham-Francis|South Joannamouth|                Togo|    001-949-844-8787|       (855)713-8773|    alex56@walls.org|       2021-12-02|http://www.beck.com/|\n",
            "|   14|A08A8aF8BE9FaD4|  Kristine|      Cox|      Carpenter-Cook|         Jodyberg|           Sri Lanka|  786-284-3358x62152|+1-315-627-1796x8074|holdenmiranda@cla...|       2021-02-08|https://www.brand...|\n",
            "|   15|6fEaA1b7cab7B6C|     Faith|     Lutz|      Carter-Hancock|        Burchbury|           Singapore|  (781)861-7180x8306|        207-185-3665|cassieparrish@ble...|       2022-01-26|http://stevenson....|\n",
            "|   16|8cad0b4CBceaeec|   Miranda|  Beasley|  Singleton and Sons|     Desireeshire|                Oman|    540.085.3135x185|+1-600-462-6432x2...|vduncan@parks-har...|       2022-04-12|  http://acosta.org/|\n",
            "|   17|a5DC21AE3a21eaA|  Caroline|    Foley|     Winters-Mendoza|West Adriennestad|      Western Sahara|   936.222.4746x9924|001-469-948-6341x359|holtgwendolyn@wat...|       2021-03-10|http://www.benson...|\n",
            "|   18|F8Aa9d6DfcBeeF8|      Greg|     Mata|       Valentine LLC|      Lake Leslie|          Mozambique|       (701)087-2415| (195)156-1861x26241|jaredjuarez@carro...|       2022-03-26|http://pitts-cher...|\n",
            "|   19|F160f5Db3EfE973|  Clifford| Jacobson|           Simon LLC|       Harmonview|South Georgia and...|001-151-330-3524x...|       (748)477-7174|joseph26@jacobson...|       2020-09-24|https://mcconnell...|\n",
            "|   20|0F60FF3DdCd7aB0|    Joanna|     Kirk|      Mays-Mccormick|       Jamesshire|    French Polynesia|   (266)131-7001x711| (283)312-5579x11543|tuckerangie@salaz...|       2021-09-24|https://www.camac...|\n",
            "+-----+---------------+----------+---------+--------------------+-----------------+--------------------+--------------------+--------------------+--------------------+-----------------+--------------------+\n",
            "only showing top 20 rows\n",
            "\n",
            "root\n",
            " |-- Index: integer (nullable = true)\n",
            " |-- Customer Id: string (nullable = true)\n",
            " |-- First Name: string (nullable = true)\n",
            " |-- Last Name: string (nullable = true)\n",
            " |-- Company: string (nullable = true)\n",
            " |-- City: string (nullable = true)\n",
            " |-- Country: string (nullable = true)\n",
            " |-- Phone 1: string (nullable = true)\n",
            " |-- Phone 2: string (nullable = true)\n",
            " |-- Email: string (nullable = true)\n",
            " |-- Subscription Date: date (nullable = true)\n",
            " |-- Website: string (nullable = true)\n",
            "\n"
          ]
        }
      ]
    },
    {
      "cell_type": "code",
      "source": [
        "df_csv.select(\"First Name\", \"Last Name\",\"City\",\"Phone 1\").show()\n",
        "\n"
      ],
      "metadata": {
        "colab": {
          "base_uri": "https://localhost:8080/"
        },
        "id": "4JazfPAf2omj",
        "outputId": "557cb493-7512-4598-a8e9-bc968aed8c09"
      },
      "execution_count": 4,
      "outputs": [
        {
          "output_type": "stream",
          "name": "stdout",
          "text": [
            "+----------+---------+-----------------+--------------------+\n",
            "|First Name|Last Name|             City|             Phone 1|\n",
            "+----------+---------+-----------------+--------------------+\n",
            "|    Sheryl|   Baxter|     East Leonard|        229.077.5154|\n",
            "|   Preston|   Lozano|East Jimmychester|          5153435776|\n",
            "|       Roy|    Berry|    Isabelborough|     +1-539-402-0259|\n",
            "|     Linda|    Olsen|       Bensonview|001-808-617-6467x...|\n",
            "|    Joanna|   Bender|   West Priscilla|001-234-203-0635x...|\n",
            "|     Aimee|    Downs|    Chavezborough| (283)437-3886x88321|\n",
            "|    Darren|     Peck|         Lake Ana|  (496)452-6181x3291|\n",
            "|     Brett|   Mullen|          Kimport|001-583-352-7197x297|\n",
            "|    Sheryl|   Meyers|     Robersonstad|   854-138-4911x5772|\n",
            "|  Michelle|Gallagher|       Elaineberg|    739.218.2516x459|\n",
            "|      Carl|Schroeder|     Shannonville|    637-854-0256x825|\n",
            "|     Jenna|   Dodson|      East Andrea|       (041)737-3846|\n",
            "|    Tracey|     Mata|South Joannamouth|    001-949-844-8787|\n",
            "|  Kristine|      Cox|         Jodyberg|  786-284-3358x62152|\n",
            "|     Faith|     Lutz|        Burchbury|  (781)861-7180x8306|\n",
            "|   Miranda|  Beasley|     Desireeshire|    540.085.3135x185|\n",
            "|  Caroline|    Foley|West Adriennestad|   936.222.4746x9924|\n",
            "|      Greg|     Mata|      Lake Leslie|       (701)087-2415|\n",
            "|  Clifford| Jacobson|       Harmonview|001-151-330-3524x...|\n",
            "|    Joanna|     Kirk|       Jamesshire|   (266)131-7001x711|\n",
            "+----------+---------+-----------------+--------------------+\n",
            "only showing top 20 rows\n",
            "\n"
          ]
        }
      ]
    },
    {
      "cell_type": "code",
      "source": [
        "df_csv.select(\"First Name\", \"Last Name\").show()\n",
        "\n"
      ],
      "metadata": {
        "colab": {
          "base_uri": "https://localhost:8080/"
        },
        "id": "GmavUuwH3FSI",
        "outputId": "6e62a723-9f56-4ec5-dff4-3bfb0ba8d1d6"
      },
      "execution_count": 5,
      "outputs": [
        {
          "output_type": "stream",
          "name": "stdout",
          "text": [
            "+----------+---------+\n",
            "|First Name|Last Name|\n",
            "+----------+---------+\n",
            "|    Sheryl|   Baxter|\n",
            "|   Preston|   Lozano|\n",
            "|       Roy|    Berry|\n",
            "|     Linda|    Olsen|\n",
            "|    Joanna|   Bender|\n",
            "|     Aimee|    Downs|\n",
            "|    Darren|     Peck|\n",
            "|     Brett|   Mullen|\n",
            "|    Sheryl|   Meyers|\n",
            "|  Michelle|Gallagher|\n",
            "|      Carl|Schroeder|\n",
            "|     Jenna|   Dodson|\n",
            "|    Tracey|     Mata|\n",
            "|  Kristine|      Cox|\n",
            "|     Faith|     Lutz|\n",
            "|   Miranda|  Beasley|\n",
            "|  Caroline|    Foley|\n",
            "|      Greg|     Mata|\n",
            "|  Clifford| Jacobson|\n",
            "|    Joanna|     Kirk|\n",
            "+----------+---------+\n",
            "only showing top 20 rows\n",
            "\n"
          ]
        }
      ]
    }
  ]
}